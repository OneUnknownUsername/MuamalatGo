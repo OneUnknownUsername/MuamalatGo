{
 "cells": [
  {
   "cell_type": "code",
   "execution_count": 1,
   "id": "26bb795f",
   "metadata": {},
   "outputs": [
    {
     "name": "stderr",
     "output_type": "stream",
     "text": [
      "/Users/muhdsafrul/Desktop/Dev/Repositories/MuamalatGo/.venv/lib/python3.12/site-packages/tqdm/auto.py:21: TqdmWarning: IProgress not found. Please update jupyter and ipywidgets. See https://ipywidgets.readthedocs.io/en/stable/user_install.html\n",
      "  from .autonotebook import tqdm as notebook_tqdm\n"
     ]
    }
   ],
   "source": [
    "import pandas as pd\n",
    "import numpy as np\n",
    "from sklearn.preprocessing import StandardScaler, OrdinalEncoder\n",
    "from sklearn.ensemble import IsolationForest\n",
    "from sklearn.model_selection import train_test_split\n",
    "from sklearn.pipeline import Pipeline\n",
    "import shap\n",
    "import matplotlib.pyplot as plt\n",
    "import xgboost as xgb\n",
    "\n",
    "df = pd.read_csv('synthesized_data_zakat.csv')"
   ]
  },
  {
   "cell_type": "code",
   "execution_count": 2,
   "id": "12675cff",
   "metadata": {},
   "outputs": [
    {
     "name": "stdout",
     "output_type": "stream",
     "text": [
      "<class 'pandas.core.frame.DataFrame'>\n",
      "RangeIndex: 15000 entries, 0 to 14999\n",
      "Data columns (total 47 columns):\n",
      " #   Column                                        Non-Null Count  Dtype  \n",
      "---  ------                                        --------------  -----  \n",
      " 0   Kategori Asnaf                                15000 non-null  object \n",
      " 1   Dokumen Lampiran Utama                        15000 non-null  object \n",
      " 2   Kategori pemohon                              15000 non-null  object \n",
      " 3   Sebab Memohon Bantuan                         15000 non-null  object \n",
      " 4   No. K/P (baru)/Polis/Tentera/No. Pasport      15000 non-null  object \n",
      " 5   Nama Pemohon/Institusi                        15000 non-null  object \n",
      " 6   Alamat                                        15000 non-null  object \n",
      " 7   Daerah                                        15000 non-null  object \n",
      " 8   Poskod                                        15000 non-null  int64  \n",
      " 9   Bandar                                        15000 non-null  object \n",
      " 10  Negeri                                        15000 non-null  object \n",
      " 11  Kariah                                        15000 non-null  object \n",
      " 12  Warganegara                                   15000 non-null  object \n",
      " 13  Tarikh Lahir                                  15000 non-null  object \n",
      " 14  Emel                                          15000 non-null  object \n",
      " 15  No. Telefon Bimbit                            15000 non-null  object \n",
      " 16  No. Telefon Rumah/Waris                       10523 non-null  object \n",
      " 17  Nama waris                                    10523 non-null  object \n",
      " 18  Tempoh Menetap di Selangor                    15000 non-null  int64  \n",
      " 19  Jantina                                       15000 non-null  object \n",
      " 20  Tarikh Masuk Islam                            2153 non-null   object \n",
      " 21  Kesihatan                                     15000 non-null  object \n",
      " 22  Status                                        15000 non-null  object \n",
      " 23  Poligami                                      455 non-null    float64\n",
      " 24  Nama Pemegang Akaun                           15000 non-null  object \n",
      " 25  Bank                                          15000 non-null  object \n",
      " 26  No. Akaun Bank                                15000 non-null  int64  \n",
      " 27  Cara Pembayaran                               15000 non-null  object \n",
      " 28  Sebab Pembayaran Tunai                        1492 non-null   object \n",
      " 29  Nama Si Mati                                  341 non-null    object \n",
      " 30  No. Kad Pengenalan Si Mati                    341 non-null    object \n",
      " 31  Maklumat Isi Rumah                            12584 non-null  object \n",
      " 32  Pekerjaan                                     15000 non-null  object \n",
      " 33  Jawatan                                       10535 non-null  object \n",
      " 34  Nama Majikan                                  10535 non-null  object \n",
      " 35  No. Tel. Majikan                              10535 non-null  object \n",
      " 36  Sebab Tidak Bekerja                           4465 non-null   object \n",
      " 37  Sektor                                        6021 non-null   object \n",
      " 38  Jenis Kerja Sendiri                           4514 non-null   object \n",
      " 39  Sumber Pendapatan Bulanan                     15000 non-null  object \n",
      " 40  Perbelanjaan Bulanan                          15000 non-null  object \n",
      " 41  Hubungan kekeluargaan dengan kakitangan LZS?  15000 non-null  object \n",
      " 42  Nama Kakitangan                               422 non-null    object \n",
      " 43  Pejabat (Kakitangan Berhubungan)              422 non-null    object \n",
      " 44  Hubungan                                      422 non-null    object \n",
      " 45  Jawatan (Kakitangan Berhubungan)              422 non-null    object \n",
      " 46  Tarikh                                        15000 non-null  object \n",
      "dtypes: float64(1), int64(3), object(43)\n",
      "memory usage: 5.4+ MB\n"
     ]
    }
   ],
   "source": [
    "df.info()"
   ]
  },
  {
   "cell_type": "code",
   "execution_count": 3,
   "id": "01c80d1b",
   "metadata": {},
   "outputs": [],
   "source": [
    "# Convert the 'Tarikh' column to datetime\n",
    "df[\"Tarikh\"] = pd.to_datetime(df[\"Tarikh\"])\n",
    "\n",
    "# Find the newest date in the 'Tarikh' column\n",
    "reference_date = df[\"Tarikh\"].max()\n",
    "\n",
    "# Calculate the number of days since the reference date\n",
    "df[\"Days Since\"] = (reference_date - df[\"Tarikh\"]).dt.days"
   ]
  },
  {
   "cell_type": "code",
   "execution_count": 4,
   "id": "4bfa3e81",
   "metadata": {},
   "outputs": [
    {
     "data": {
      "text/plain": [
       "Days Since\n",
       "33    201\n",
       "65    196\n",
       "8     193\n",
       "85    193\n",
       "82    191\n",
       "     ... \n",
       "9     144\n",
       "49    142\n",
       "7     141\n",
       "73    140\n",
       "59    131\n",
       "Name: count, Length: 91, dtype: int64"
      ]
     },
     "execution_count": 4,
     "metadata": {},
     "output_type": "execute_result"
    }
   ],
   "source": [
    "df[\"Days Since\"].value_counts()"
   ]
  },
  {
   "cell_type": "code",
   "execution_count": 5,
   "id": "a5332923",
   "metadata": {},
   "outputs": [],
   "source": [
    "# Drop the 'Tarikh' column\n",
    "df = df.drop(columns=[\"Tarikh\"])"
   ]
  },
  {
   "cell_type": "markdown",
   "id": "438602e5",
   "metadata": {},
   "source": [
    "warganegara"
   ]
  },
  {
   "cell_type": "code",
   "execution_count": 6,
   "id": "b0005fda",
   "metadata": {},
   "outputs": [],
   "source": [
    "df[\"Poligami\"] = df[\"Poligami\"].fillna(0)"
   ]
  },
  {
   "cell_type": "code",
   "execution_count": 7,
   "id": "82b49bad",
   "metadata": {},
   "outputs": [
    {
     "data": {
      "text/plain": [
       "Poligami\n",
       "0.0    14545\n",
       "3.0      163\n",
       "2.0      148\n",
       "4.0      144\n",
       "Name: count, dtype: int64"
      ]
     },
     "execution_count": 7,
     "metadata": {},
     "output_type": "execute_result"
    }
   ],
   "source": [
    "df[\"Poligami\"].value_counts()"
   ]
  },
  {
   "cell_type": "code",
   "execution_count": 8,
   "id": "55b7e43a",
   "metadata": {},
   "outputs": [
    {
     "data": {
      "text/plain": [
       "Age\n",
       "69    297\n",
       "74    295\n",
       "73    292\n",
       "57    287\n",
       "32    287\n",
       "70    286\n",
       "26    284\n",
       "49    281\n",
       "50    280\n",
       "30    276\n",
       "24    276\n",
       "46    274\n",
       "33    274\n",
       "51    273\n",
       "44    273\n",
       "47    272\n",
       "42    272\n",
       "40    270\n",
       "20    270\n",
       "19    270\n",
       "39    269\n",
       "31    269\n",
       "52    267\n",
       "21    266\n",
       "64    266\n",
       "29    265\n",
       "36    264\n",
       "27    263\n",
       "41    262\n",
       "61    262\n",
       "48    260\n",
       "66    260\n",
       "23    260\n",
       "54    257\n",
       "45    257\n",
       "53    257\n",
       "68    256\n",
       "25    256\n",
       "34    256\n",
       "38    255\n",
       "59    255\n",
       "37    253\n",
       "43    253\n",
       "65    252\n",
       "72    251\n",
       "28    251\n",
       "63    251\n",
       "18    251\n",
       "67    248\n",
       "60    245\n",
       "22    242\n",
       "62    241\n",
       "55    238\n",
       "58    238\n",
       "35    235\n",
       "56    235\n",
       "71    230\n",
       "75     15\n",
       "Name: count, dtype: int64"
      ]
     },
     "execution_count": 8,
     "metadata": {},
     "output_type": "execute_result"
    }
   ],
   "source": [
    "# Convert the 'Tarikh Lahir' column to datetime\n",
    "df[\"Tarikh Lahir\"] = pd.to_datetime(df[\"Tarikh Lahir\"])\n",
    "# Calculate age based on the reference date\n",
    "df[\"Age\"] = (reference_date - df[\"Tarikh Lahir\"]).dt.days // 365  # Integer division for years\n",
    "df = df.drop(columns=[\"Tarikh Lahir\"])\n",
    "\n",
    "df[\"Age\"].value_counts()"
   ]
  },
  {
   "cell_type": "code",
   "execution_count": 9,
   "id": "53c45fae",
   "metadata": {},
   "outputs": [],
   "source": [
    "df = df.drop(columns=[\"Tarikh Masuk Islam\"])"
   ]
  },
  {
   "cell_type": "code",
   "execution_count": 10,
   "id": "dec2f26b",
   "metadata": {},
   "outputs": [],
   "source": [
    "df[\"No. Telefon Rumah/Waris\"] = df[\"No. Telefon Rumah/Waris\"].apply(lambda x: \"YA\" if pd.notnull(x) else \"TIADA\")\n"
   ]
  },
  {
   "cell_type": "code",
   "execution_count": 11,
   "id": "d6c7288f",
   "metadata": {},
   "outputs": [
    {
     "data": {
      "text/plain": [
       "No. Telefon Rumah/Waris\n",
       "YA       10523\n",
       "TIADA     4477\n",
       "Name: count, dtype: int64"
      ]
     },
     "execution_count": 11,
     "metadata": {},
     "output_type": "execute_result"
    }
   ],
   "source": [
    "df[\"No. Telefon Rumah/Waris\"].value_counts()"
   ]
  },
  {
   "cell_type": "code",
   "execution_count": 12,
   "id": "d3b5b06b",
   "metadata": {},
   "outputs": [],
   "source": [
    "df[\"No. Telefon Bimbit\"] = df[\"No. Telefon Bimbit\"].apply(lambda x: \"YA\" if pd.notnull(x) else \"TIADA\")"
   ]
  },
  {
   "cell_type": "code",
   "execution_count": 13,
   "id": "1cfafc21",
   "metadata": {},
   "outputs": [
    {
     "data": {
      "text/plain": [
       "No. Telefon Bimbit\n",
       "YA    15000\n",
       "Name: count, dtype: int64"
      ]
     },
     "execution_count": 13,
     "metadata": {},
     "output_type": "execute_result"
    }
   ],
   "source": [
    "df[\"No. Telefon Bimbit\"].value_counts()"
   ]
  },
  {
   "cell_type": "code",
   "execution_count": 14,
   "id": "29fa9bda",
   "metadata": {},
   "outputs": [
    {
     "data": {
      "text/plain": [
       "Tempoh Menetap di Selangor\n",
       "1     405\n",
       "35    403\n",
       "14    403\n",
       "20    400\n",
       "12    400\n",
       "2     397\n",
       "19    397\n",
       "4     395\n",
       "18    394\n",
       "8     393\n",
       "34    393\n",
       "13    389\n",
       "33    389\n",
       "11    387\n",
       "40    385\n",
       "26    381\n",
       "25    380\n",
       "6     378\n",
       "21    374\n",
       "16    374\n",
       "9     373\n",
       "10    372\n",
       "7     371\n",
       "38    371\n",
       "30    370\n",
       "24    367\n",
       "17    365\n",
       "23    363\n",
       "39    361\n",
       "29    361\n",
       "15    361\n",
       "5     360\n",
       "3     358\n",
       "37    358\n",
       "36    357\n",
       "31    351\n",
       "32    349\n",
       "27    348\n",
       "22    335\n",
       "28    332\n",
       "Name: count, dtype: int64"
      ]
     },
     "execution_count": 14,
     "metadata": {},
     "output_type": "execute_result"
    }
   ],
   "source": [
    "df[\"Tempoh Menetap di Selangor\"].value_counts()"
   ]
  },
  {
   "cell_type": "code",
   "execution_count": 15,
   "id": "ec37e201",
   "metadata": {},
   "outputs": [],
   "source": [
    "df.to_csv(\"cleaned_data.csv\", index=False)"
   ]
  }
 ],
 "metadata": {
  "kernelspec": {
   "display_name": ".venv",
   "language": "python",
   "name": "python3"
  },
  "language_info": {
   "codemirror_mode": {
    "name": "ipython",
    "version": 3
   },
   "file_extension": ".py",
   "mimetype": "text/x-python",
   "name": "python",
   "nbconvert_exporter": "python",
   "pygments_lexer": "ipython3",
   "version": "3.12.2"
  }
 },
 "nbformat": 4,
 "nbformat_minor": 5
}
